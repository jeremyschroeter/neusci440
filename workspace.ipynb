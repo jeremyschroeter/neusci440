{
 "cells": [
  {
   "cell_type": "code",
   "execution_count": 7,
   "metadata": {},
   "outputs": [],
   "source": [
    "import numpy as np\n",
    "\n",
    "def extract_waveforms(arr: np.ndarray, spike_times: np.ndarray, window_size: int) -> np.ndarray:\n",
    "    waveforms = [arr[spike - window_size // 2 : (spike + window_size // 2) + 1] for spike in spike_times]\n",
    "    return np.vstack(waveforms)"
   ]
  },
  {
   "cell_type": "code",
   "execution_count": 11,
   "metadata": {},
   "outputs": [],
   "source": [
    "arr = np.random.random(100)\n",
    "spike_times = np.random.choice(len(arr), 10)"
   ]
  },
  {
   "cell_type": "code",
   "execution_count": 12,
   "metadata": {},
   "outputs": [
    {
     "data": {
      "text/plain": [
       "array([[0.35470097, 0.10346254, 0.04508576, 0.70157393, 0.34552209],\n",
       "       [0.35701545, 0.79947116, 0.65757152, 0.84587613, 0.62394312],\n",
       "       [0.17367513, 0.29762522, 0.44880353, 0.95364187, 0.35442912],\n",
       "       [0.97794253, 0.76373451, 0.88643496, 0.31659064, 0.68890419],\n",
       "       [0.21801667, 0.3357335 , 0.10328115, 0.15234046, 0.5280785 ],\n",
       "       [0.76373451, 0.88643496, 0.31659064, 0.68890419, 0.47532868],\n",
       "       [0.41048121, 0.33825601, 0.07663369, 0.2010796 , 0.38712215],\n",
       "       [0.96320647, 0.25576915, 0.74320537, 0.10837657, 0.58687691],\n",
       "       [0.21898988, 0.50467126, 0.82587294, 0.74323549, 0.38937858],\n",
       "       [0.13319983, 0.43226564, 0.76711584, 0.40248929, 0.76127632]])"
      ]
     },
     "execution_count": 12,
     "metadata": {},
     "output_type": "execute_result"
    }
   ],
   "source": [
    "extract_waveforms(arr, spike_times, window_size=5)"
   ]
  }
 ],
 "metadata": {
  "kernelspec": {
   "display_name": "neusci440",
   "language": "python",
   "name": "python3"
  },
  "language_info": {
   "codemirror_mode": {
    "name": "ipython",
    "version": 3
   },
   "file_extension": ".py",
   "mimetype": "text/x-python",
   "name": "python",
   "nbconvert_exporter": "python",
   "pygments_lexer": "ipython3",
   "version": "3.12.6"
  }
 },
 "nbformat": 4,
 "nbformat_minor": 2
}
